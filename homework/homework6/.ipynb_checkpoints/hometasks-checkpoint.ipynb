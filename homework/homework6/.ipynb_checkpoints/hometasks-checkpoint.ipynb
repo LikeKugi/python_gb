{
 "cells": [
  {
   "cell_type": "markdown",
   "id": "7fa1f194",
   "metadata": {},
   "source": [
    "Задача 1. Дано натуральное число N. Найдите значение\n",
    "выражения:\n",
    "N + NN + NNN\n",
    "N может быть любой длины."
   ]
  },
  {
   "cell_type": "code",
   "execution_count": 2,
   "id": "003784db",
   "metadata": {
    "scrolled": true
   },
   "outputs": [
    {
     "name": "stdout",
     "output_type": "stream",
     "text": [
      "enter number: 132\n"
     ]
    }
   ],
   "source": [
    "N = int(input('enter number: '))"
   ]
  },
  {
   "cell_type": "code",
   "execution_count": 4,
   "id": "79616c83",
   "metadata": {},
   "outputs": [
    {
     "name": "stdout",
     "output_type": "stream",
     "text": [
      "132264396\n"
     ]
    }
   ],
   "source": [
    "print(N + int(str(N)*2) + int(str(N)*3))"
   ]
  },
  {
   "cell_type": "markdown",
   "id": "2bbe49a7",
   "metadata": {},
   "source": [
    "Задача 2. Задан массив из случайных цифр на 15 элементов.\n",
    "На вход подаётся трёхзначное натуральное число. Напишите\n",
    "программу, которая определяет, есть в массиве\n",
    "последовательность из трёх элементов, совпадающая с\n",
    "введённым числом.\n"
   ]
  },
  {
   "cell_type": "code",
   "execution_count": 5,
   "id": "80eb8cd6",
   "metadata": {},
   "outputs": [
    {
     "name": "stdout",
     "output_type": "stream",
     "text": [
      "[8, 7, 2, 5, 3, 0, 3, 9, 3, 8, 8, 0, 5, 4, 3]\n"
     ]
    }
   ],
   "source": [
    "from random import randint as RI\n",
    "numbers = [RI(0,9) for _ in range(15)]\n",
    "print(numbers)"
   ]
  },
  {
   "cell_type": "code",
   "execution_count": 7,
   "id": "39420f09",
   "metadata": {},
   "outputs": [
    {
     "name": "stdout",
     "output_type": "stream",
     "text": [
      "n to search938\n",
      "[9, 3, 8]\n"
     ]
    }
   ],
   "source": [
    "query = list(map(int, input('n to search')))\n",
    "print(query)"
   ]
  },
  {
   "cell_type": "code",
   "execution_count": 8,
   "id": "50ab459d",
   "metadata": {},
   "outputs": [
    {
     "name": "stdout",
     "output_type": "stream",
     "text": [
      "YES\n"
     ]
    }
   ],
   "source": [
    "for i in range(len(numbers)-3):\n",
    "    if numbers[i:i+3] == query:\n",
    "        print('YES')\n",
    "        break\n",
    "else:\n",
    "    print('NO')"
   ]
  },
  {
   "cell_type": "markdown",
   "id": "a4dfba05",
   "metadata": {},
   "source": [
    "Задача 3. Найдите все простые несократимые дроби,\n",
    "лежащие между 0 и 1, знаменатель которых не превышает 11."
   ]
  },
  {
   "cell_type": "code",
   "execution_count": 13,
   "id": "e2ca4f02",
   "metadata": {},
   "outputs": [
    {
     "name": "stdout",
     "output_type": "stream",
     "text": [
      "1/2\n",
      "1/3\n",
      "1/4\n",
      "1/5\n",
      "1/6\n",
      "1/7\n",
      "1/8\n",
      "1/9\n",
      "1/10\n",
      "1/11\n",
      "2/3\n",
      "2/5\n",
      "2/7\n",
      "2/9\n",
      "2/11\n",
      "3/4\n",
      "3/5\n",
      "3/7\n",
      "3/8\n",
      "3/10\n",
      "3/11\n",
      "4/5\n",
      "4/7\n",
      "4/9\n",
      "4/11\n",
      "5/6\n",
      "5/7\n",
      "5/8\n",
      "5/9\n",
      "5/11\n",
      "6/7\n",
      "6/11\n",
      "7/8\n",
      "7/9\n",
      "7/10\n",
      "7/11\n",
      "8/9\n",
      "8/11\n",
      "9/10\n",
      "9/11\n",
      "10/11\n"
     ]
    }
   ],
   "source": [
    "from fractions import Fraction\n",
    "MD = 11\n",
    "used = set()\n",
    "for i in range(1,MD):\n",
    "    for j in range(1,MD+1):\n",
    "        if i < j and i//j != i/j and Fraction(i,j) not in used:\n",
    "            print(Fraction(i,j))\n",
    "            used.add(Fraction(i,j))"
   ]
  }
 ],
 "metadata": {
  "kernelspec": {
   "display_name": "Python 3 (ipykernel)",
   "language": "python",
   "name": "python3"
  },
  "language_info": {
   "codemirror_mode": {
    "name": "ipython",
    "version": 3
   },
   "file_extension": ".py",
   "mimetype": "text/x-python",
   "name": "python",
   "nbconvert_exporter": "python",
   "pygments_lexer": "ipython3",
   "version": "3.9.13"
  }
 },
 "nbformat": 4,
 "nbformat_minor": 5
}
